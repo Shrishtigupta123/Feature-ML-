{
  "nbformat": 4,
  "nbformat_minor": 0,
  "metadata": {
    "colab": {
      "provenance": []
    },
    "kernelspec": {
      "name": "python3",
      "display_name": "Python 3"
    },
    "language_info": {
      "name": "python"
    }
  },
  "cells": [
    {
      "cell_type": "code",
      "execution_count": null,
      "metadata": {
        "id": "wYkbFiraEzE3"
      },
      "outputs": [],
      "source": []
    },
    {
      "cell_type": "markdown",
      "source": [
        "1.What is a parameter?\n",
        "A parameter is a variable or value that is used to define or influence a function, method, or process. It acts as a way to pass information or data into a system to modify its behavior or outcome. Parameters are commonly used in various fields, including programming, mathematics, and science.\n",
        "Here are a few examples:\n",
        "1.\tIn Programming: A parameter is an input to a function or method. For example, in the Python function def add(a, b):, a and b are parameters. When you call add(2, 3), the values 2 and 3 are passed into the function as arguments for a and b, respectively.\n",
        "2.\tIn Mathematics: A parameter can be a constant or variable that characterizes a family of equations. For instance, in the equation of a line y=mx+cy = mx + cy=mx+c, mmm and ccc are parameters that define the slope and the y-intercept of the line.\n",
        "3.\tIn Science/Engineering: Parameters are values that describe properties of a system, like the temperature, pressure, or volume of a gas."
      ],
      "metadata": {
        "id": "H7TZTX7eFBqu"
      }
    },
    {
      "cell_type": "markdown",
      "source": [
        "2.What is correlation?\n",
        "•\tCorrelation measures the relationship between two variables, indicating whether and how strongly they are related. A positive correlation means that as one variable increases, the other also increases. A negative correlation means that as one variable increases, the other decreases. Correlation values range from -1 (perfect negative) to +1 (perfect positive), with 0 indicating no correlation."
      ],
      "metadata": {
        "id": "rKgkLPhNFDLt"
      }
    },
    {
      "cell_type": "markdown",
      "source": [
        "3. What does negative correlation mean?\n",
        "•\tNegative correlation means that as one variable increases, the other decreases. For example, if the temperature rises, the number of people wearing coats might decrease, showing a negative correlation."
      ],
      "metadata": {
        "id": "IP9DNHenFJJN"
      }
    },
    {
      "cell_type": "markdown",
      "source": [
        "4. Define Machine Learning. What are the main components in Machine Learning?\n",
        "•\tMachine Learning (ML) is a field of artificial intelligence where computers learn from data to make predictions or decisions without explicit programming. The main components are:\n",
        "o\tData: Raw input that the model will learn from.\n",
        "o\tModel: The algorithm used to learn patterns from the data.\n",
        "o\tLoss Function: Measures how well the model performs.\n",
        "o\tOptimizer: Helps minimize the loss by adjusting the model.\n",
        "o\tEvaluation Metrics: Used to assess the model’s performance (accuracy, precision, recall, etc.)."
      ],
      "metadata": {
        "id": "Bdb2eGr4FOdB"
      }
    },
    {
      "cell_type": "markdown",
      "source": [
        "5.How does loss value help in determining whether the model is good or not?\n",
        "•\tThe loss function measures how well the model's predictions match the actual outcomes. A low loss value means the model is performing well, while a high loss value suggests the model is making many errors and needs improvement."
      ],
      "metadata": {
        "id": "ldrSXvOxFTWD"
      }
    },
    {
      "cell_type": "markdown",
      "source": [
        "6. What are continuous and categorical variables?\n",
        "•\tContinuous variables are numerical variables that can take any value within a range (e.g., height, weight, temperature).\n",
        "•\tCategorical variables represent categories or groups (e.g., color, gender, or brand names). They may be nominal (no inherent order, like \"red\" or \"blue\") or ordinal (with an order, like \"low\", \"medium\", \"high\")."
      ],
      "metadata": {
        "id": "g7CENnlRFYYr"
      }
    },
    {
      "cell_type": "markdown",
      "source": [
        "7. How do we handle categorical variables in Machine Learning? What are the common techniques?\n",
        "•\tEncoding categorical variables is crucial for ML models to understand them:\n",
        "o\tOne-Hot Encoding: Converts each category into a binary vector (1s and 0s) representing the presence or absence of each category.\n",
        "o\tLabel Encoding: Converts each category into a numeric value.\n",
        "o\tBinary Encoding: Combines elements of both one-hot and label encoding."
      ],
      "metadata": {
        "id": "PGctt7v9Fdhk"
      }
    },
    {
      "cell_type": "markdown",
      "source": [
        "8.. What do you mean by training and testing a dataset?\n",
        "•\tTraining: The dataset used to train the model and adjust its parameters.\n",
        "•\tTesting: A separate dataset used to evaluate the model's performance after training."
      ],
      "metadata": {
        "id": "4XsO-bDWFhyv"
      }
    },
    {
      "cell_type": "markdown",
      "source": [
        "9.. What is sklearn.preprocessing?\n",
        "•\tsklearn.preprocessing is a module in the scikit-learn library that contains functions for data preprocessing, such as scaling, encoding, and transforming data into a format suitable for machine learning models."
      ],
      "metadata": {
        "id": "HNSrlr7IFmaU"
      }
    },
    {
      "cell_type": "markdown",
      "source": [
        "10.. What is a Test set?\n",
        "•\tA test set is a portion of the dataset that is used to evaluate the performance of a model after it has been trained. The test set is not used in training, ensuring the model’s ability to generalize to unseen data."
      ],
      "metadata": {
        "id": "AHw-D3wbFzhD"
      }
    },
    {
      "cell_type": "code",
      "source": [
        "#11. How do we split data for model fitting (training and testing) in Python?\n",
        "#In Python, we commonly split data into training and testing sets using the train_test_split function from sklearn.model_selection. This ensures that the model is trained on one portion of the data and evaluated on another to assess its performance.\n",
        "\n",
        "#Example using train_test_split\n",
        "#python\n",
        "#Copy\n",
        "#Edit\n",
        "from sklearn.model_selection import train_test_split\n",
        "import numpy as np\n",
        "\n",
        "# Sample data\n",
        "X = np.arange(10).reshape((5, 2))  # Feature matrix (5 samples, 2 features)\n",
        "y = np.array([0, 1, 0, 1, 0])      # Target labels"
      ],
      "metadata": {
        "id": "LpXhfR4dF6SI"
      },
      "execution_count": 1,
      "outputs": []
    },
    {
      "cell_type": "markdown",
      "source": [
        "12. How do you approach a Machine Learning problem?\n",
        "•\tThe steps include:\n",
        "1.\tDefine the problem.\n",
        "2.\tCollect and preprocess the data.\n",
        "3.\tSelect the model.\n",
        "4.\tTrain the model.\n",
        "5.\tEvaluate the model.\n",
        "6.\tTune hyperparameters.\n",
        "7.\tDeploy the model."
      ],
      "metadata": {
        "id": "DY0Qtic9F77U"
      }
    },
    {
      "cell_type": "markdown",
      "source": [
        "13. Why do we have to perform EDA before fitting a model to the data?\n",
        "•\tExploratory Data Analysis (EDA) helps understand the data, identify patterns, detect outliers, and check assumptions before fitting a model. It provides insights into which features are important and how to preprocess them."
      ],
      "metadata": {
        "id": "qGZGwTfuGGI7"
      }
    },
    {
      "cell_type": "markdown",
      "source": [
        "14. How can you find correlation between variables in Python?\n",
        "•\tYou can use .corr() in pandas to find the correlation between variables:\n",
        "python\n",
        "CopyEdit\n",
        "import pandas as pd\n",
        "df = pd.DataFrame(data)\n",
        "correlation = df.corr()\n",
        "•\tThis will give a correlation matrix showing relationships between all pairs of variables."
      ],
      "metadata": {
        "id": "bA3am0cBGKhI"
      }
    },
    {
      "cell_type": "markdown",
      "source": [
        "15. What is causation? Explain the difference between correlation and causation with an example.\n",
        "•\tCausation means that one variable directly affects the other (e.g., increasing exercise causes weight loss).\n",
        "•\tCorrelation means two variables are related, but one does not necessarily cause the other (e.g., there might be a correlation between ice cream sales and drowning incidents, but it’s caused by the weather, not one affecting the other)."
      ],
      "metadata": {
        "id": "YafI-vPOGPNq"
      }
    },
    {
      "cell_type": "markdown",
      "source": [
        "16. What is an Optimizer? What are different types of optimizers? Explain each with an example.\n",
        "•\tAn optimizer is an algorithm that adjusts the parameters of a model to minimize the loss function.\n",
        "o\tGradient Descent: Adjusts parameters in the direction that reduces the loss.\n",
        "o\tStochastic Gradient Descent (SGD): A variation of gradient descent where only one data point is used at each iteration.\n",
        "o\tAdam: A popular optimizer combining features of both momentum and adaptive learning rates."
      ],
      "metadata": {
        "id": "oNHy9oVTGT7c"
      }
    },
    {
      "cell_type": "markdown",
      "source": [
        "17. What is sklearn.linear_model?\n",
        "•\tsklearn.linear_model is a module in scikit-learn that contains linear models for regression and classification, such as LinearRegression, LogisticRegression, and Ridge."
      ],
      "metadata": {
        "id": "e72Ri_uQGc5o"
      }
    },
    {
      "cell_type": "markdown",
      "source": [
        "18. What does model.fit() do? What arguments must be given?\n",
        "•\tmodel.fit() trains the model on the data. You must provide the features (X) and the target variable (y).\n",
        "python\n",
        "CopyEdit\n",
        "model.fit(X_train, y_train)"
      ],
      "metadata": {
        "id": "UXNzcWn7GhJP"
      }
    },
    {
      "cell_type": "markdown",
      "source": [
        "19. What does model.predict() do? What arguments must be given?\n",
        "•\tmodel.predict() generates predictions based on new data. You must provide the features (X) for which you want predictions.\n",
        "python\n",
        "CopyEdit\n",
        "predictions = model.predict(X_test)"
      ],
      "metadata": {
        "id": "3jN9u5cwGkwe"
      }
    },
    {
      "cell_type": "markdown",
      "source": [
        "20. What is feature scaling? How does it help in Machine Learning?\n",
        "•\tFeature scaling standardizes or normalizes feature values to a similar range (e.g., 0 to 1 or a standard normal distribution). It helps improve the performance of models that are sensitive to the scale of the data, like KNN and SVM."
      ],
      "metadata": {
        "id": "CoxcebkOGr6A"
      }
    },
    {
      "cell_type": "markdown",
      "source": [
        "21 How do we perform scaling in Python?\n",
        "•\tYou can use StandardScaler or MinMaxScaler from sklearn.preprocessing to scale features:\n",
        "python\n",
        "CopyEdit\n",
        "from sklearn.preprocessing import StandardScaler\n",
        "scaler = StandardScaler()\n",
        "X_scaled = scaler.fit_transform(X)"
      ],
      "metadata": {
        "id": "d02LJn8xGstk"
      }
    },
    {
      "cell_type": "markdown",
      "source": [
        "22. What is sklearn.preprocessing?\n",
        "•\tsklearn.preprocessing is a module in scikit-learn that provides tools to preprocess data. It includes methods for scaling, encoding categorical variables, and transforming data to improve model performance."
      ],
      "metadata": {
        "id": "LNdWr4YQGxFA"
      }
    },
    {
      "cell_type": "markdown",
      "source": [
        "23. How do we split data for model fitting (training and testing) in Python?\n",
        "•\tTo split your data into training and testing sets in Python, the most common method is using train_test_split from sklearn.model_selection. This function randomly splits the dataset into a training set and a testing set.\n",
        "Here's an example of how to use it:\n",
        "python\n",
        "CopyEdit\n",
        "from sklearn.model_selection import train_test_split\n",
        "\n",
        "# X represents features, y represents the target variable\n",
        "X_train, X_test, y_train, y_test = train_test_split(X, y, test_size=0.2, random_state=42)\n",
        "•\tX is the feature set, and y is the target variable.\n",
        "•\ttest_size=0.2 means 20% of the data will be used for testing, and the rest will be used for training.\n",
        "•\trandom_state=42 ensures that the split is reproducible."
      ],
      "metadata": {
        "id": "3w0YUaCdHBYt"
      }
    },
    {
      "cell_type": "markdown",
      "source": [
        "24.. Explain data encoding.\n",
        "•\tData encoding is the process of converting categorical data (such as text or labels) into a numerical format that can be used by machine learning models. Models typically require numerical input because they are based on mathematical computations, and many machine learning algorithms work better with numeric data.\n",
        "Common encoding techniques:\n",
        "•\tLabel Encoding:\n",
        "o\tConverts each category into a numeric label. For example, ['red', 'blue', 'green'] could be encoded as [0, 1, 2].\n",
        "o\tLabelEncoder() in sklearn is used for this.\n",
        "python\n",
        "CopyEdit\n",
        "from sklearn.preprocessing import LabelEncoder\n",
        "encoder = LabelEncoder()\n",
        "encoded_labels = encoder.fit_transform(['red', 'blue', 'green'])\n",
        "print(encoded_labels)  # Output: [0 1 2]\n",
        "•\tOne-Hot Encoding:\n",
        "o\tCreates binary columns for each category. Each category is represented as a vector where only one value is 1, and the rest are 0. For example, the category ['red', 'blue', 'green'] will be transformed to:\n",
        "CopyEdit\n",
        "red    [1, 0, 0]\n",
        "blue   [0, 1, 0]\n",
        "green  [0, 0, 1]\n",
        "OneHotEncoder() in sklearn is used for this.\n",
        "python\n",
        "CopyEdit\n",
        "from sklearn.preprocessing import OneHotEncoder\n",
        "encoder = OneHotEncoder(sparse=False)\n",
        "encoded_categories = encoder.fit_transform([['red'], ['blue'], ['green']])\n",
        "print(encoded_categories)\n",
        "•\tBinary Encoding:\n",
        "o\tA combination of label encoding and one-hot encoding. It's more memory-efficient than one-hot encoding when dealing with a large number of categories. Each label is converted into a binary number, and the binary digits are split into separate columns.\n",
        "•\tOrdinal Encoding:\n",
        "o\tThis technique is used when the categorical data has a natural order. For example, a rating scale like ['low', 'medium', 'high'] can be encoded as [0, 1, 2].\n"
      ],
      "metadata": {
        "id": "_p9WOFucHCGA"
      }
    },
    {
      "cell_type": "markdown",
      "source": [
        "25.What are continuous and categorical variables?\n",
        "1. Continuous Variables\n",
        "A continuous variable is a numerical variable that can take an infinite number of values within a given range. These values can be measured and often include decimals or fractions.\n",
        "\n",
        "Examples:\n",
        "\n",
        "Height (e.g., 170.5 cm)\n",
        "Weight (e.g., 68.2 kg)\n",
        "Temperature (e.g., 36.7°C)\n",
        "Time (e.g., 12.35 seconds)\n",
        "Continuous variables can be further divided into:\n",
        "\n",
        "Interval variables (e.g., temperature in Celsius, where 0 is arbitrary)\n",
        "Ratio variables (e.g., weight, where 0 means the absence of weight)\n",
        "2. Categorical Variables\n",
        "A categorical variable (also known as a qualitative variable) represents distinct groups or categories that do not have a meaningful numerical value.\n",
        "\n",
        "Examples:Nominal variables (categories without a meaningful order):\n",
        "\n",
        "Gender (Male, Female, Other)\n",
        "Eye color (Blue, Brown, Green)\n",
        "Type of car (Sedan, SUV, Truck)\n",
        "Ordinal variables (categories with a meaningful order but no consistent difference between them):\n",
        "\n",
        "Education level (High School, Bachelor’s, Master’s, PhD)\n",
        "Customer satisfaction (Low, Medium, High)\n",
        "Clothing size (Small, Medium, Large)\n"
      ],
      "metadata": {
        "id": "tiybOV84HPDp"
      }
    }
  ]
}